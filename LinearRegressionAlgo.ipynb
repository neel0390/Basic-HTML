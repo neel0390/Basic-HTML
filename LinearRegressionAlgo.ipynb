{
  "nbformat": 4,
  "nbformat_minor": 0,
  "metadata": {
    "colab": {
      "provenance": [],
      "authorship_tag": "ABX9TyPZqEOrYUYgufZcBZN84Ve/",
      "include_colab_link": true
    },
    "kernelspec": {
      "name": "python3",
      "display_name": "Python 3"
    },
    "language_info": {
      "name": "python"
    }
  },
  "cells": [
    {
      "cell_type": "markdown",
      "metadata": {
        "id": "view-in-github",
        "colab_type": "text"
      },
      "source": [
        "<a href=\"https://colab.research.google.com/github/neel0390/Basic-HTML/blob/master/LinearRegressionAlgo.ipynb\" target=\"_parent\"><img src=\"https://colab.research.google.com/assets/colab-badge.svg\" alt=\"Open In Colab\"/></a>"
      ]
    },
    {
      "cell_type": "code",
      "execution_count": null,
      "metadata": {
        "colab": {
          "base_uri": "https://localhost:8080/"
        },
        "id": "AP3a3-Rrnef_",
        "outputId": "0e210cd5-1170-4278-a060-0f61246f18e2"
      },
      "outputs": [
        {
          "output_type": "stream",
          "name": "stdout",
          "text": [
            "[[16.79072718]\n",
            " [14.69321262]]\n",
            "      y\n",
            "8  18.0\n",
            "6  15.0\n"
          ]
        }
      ],
      "source": [
        "import numpy as np\n",
        "import pandas as pd\n",
        "from sklearn.model_selection import train_test_split\n",
        "from sklearn.linear_model import LinearRegression\n",
        "data = pd.DataFrame({'x':[1, 2, 3, 4, 5.3, 6, 7.5, 8, 9, 10],\n",
        "                     'y':[12, 4, 6, 8, 10.6, 12, 15, 16, 18, 20]})\n",
        "X_train, X_test, y_train, y_test = train_test_split(data[['x']],data[['y']],test_size =0.2)\n",
        "model = LinearRegression()\n",
        "model.fit(X_train, y_train)\n",
        "\n",
        "y_pred = model.predict(X_test)\n"
      ]
    },
    {
      "cell_type": "code",
      "source": [
        "print(y_pred)\n",
        "print(y_test)\n"
      ],
      "metadata": {
        "colab": {
          "base_uri": "https://localhost:8080/"
        },
        "id": "fxtv0-I5r6-1",
        "outputId": "5e595d59-6876-4d30-89fe-5b5b7dd7b102"
      },
      "execution_count": null,
      "outputs": [
        {
          "output_type": "stream",
          "name": "stdout",
          "text": [
            "[[16.79072718]\n",
            " [14.69321262]]\n",
            "      y\n",
            "8  18.0\n",
            "6  15.0\n"
          ]
        }
      ]
    }
  ]
}